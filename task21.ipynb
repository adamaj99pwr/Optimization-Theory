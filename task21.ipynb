{
 "cells": [
  {
   "cell_type": "code",
   "execution_count": 3,
   "metadata": {},
   "outputs": [],
   "source": [
    "# imports"
   ]
  },
  {
   "cell_type": "markdown",
   "metadata": {},
   "source": [
    "Distances are displayed in km and were found using Google Maps measure distance option."
   ]
  },
  {
   "cell_type": "code",
   "execution_count": 2,
   "metadata": {},
   "outputs": [],
   "source": [
    "distances = {\n",
    "    'Olsztyn': {'Ełk': 122.33, 'Suwałki': 164.53, 'Mrągowo': 54.47, 'Łomża': 123.76, 'Ostrołęka': 105.05, 'Szczytno': 41.54, 'Augustów': 165.36},\n",
    "    'Ełk': {'Olsztyn': 122.33, 'Suwałki': 48.63, 'Mrągowo': 67.47, 'Łomża': 72.96, 'Ostrołęka': 99.26, 'Szczytno': 94.17, 'Augustów': 39.19},\n",
    "    'Suwałki': {'Ełk': 48.63, 'Olsztyn': 164.53, 'Mrągowo': 109.14, 'Łomża': 118.58, 'Ostrołęka': 145.77, 'Szczytno': 140.79, 'Augustów': 29.96},\n",
    "    'Mrągowo': {'Ełk': 67.47, 'Suwałki': 109.14, 'Olsztyn': 54.47, 'Łomża': 90.83, 'Ostrołęka': 87.08, 'Szczytno': 39.37, 'Augustów': 110.38},\n",
    "    'Łomża': {'Ełk': 72.96, 'Suwałki': 118.58, 'Mrągowo': 90.83, 'Olsztyn': 123.76, 'Ostrołęka': 34.93, 'Szczytno': 82.65, 'Augustów': 96.38},\n",
    "    'Ostrołęka': {'Ełk': 99.26, 'Suwałki': 145.77, 'Mrągowo': 87.08, 'Łomża': 34.93, 'Olsztyn': 105.05, 'Szczytno': 65.77, 'Augustów': 125.49},\n",
    "    'Szczytno': {'Ełk': 94.17, 'Suwałki': 140.79, 'Mrągowo': 39.37, 'Łomża': 82.65, 'Ostrołęka': 65.77, 'Olsztyn': 41.54, 'Augustów': 135.11},\n",
    "    'Augustów': {'Ełk': 39.19, 'Suwałki': 29.96, 'Mrągowo': 110.38, 'Łomża': 96.38, 'Ostrołęka': 125.49, 'Szczytno': 135.11, 'Olsztyn': 165.36}\n",
    "}"
   ]
  },
  {
   "cell_type": "code",
   "execution_count": 4,
   "metadata": {},
   "outputs": [
    {
     "data": {
      "text/plain": [
       "41.54"
      ]
     },
     "execution_count": 4,
     "metadata": {},
     "output_type": "execute_result"
    }
   ],
   "source": [
    "distances['Olsztyn']['Szczytno']"
   ]
  },
  {
   "cell_type": "code",
   "execution_count": null,
   "metadata": {},
   "outputs": [],
   "source": []
  }
 ],
 "metadata": {
  "kernelspec": {
   "display_name": "Python 3",
   "language": "python",
   "name": "python3"
  },
  "language_info": {
   "codemirror_mode": {
    "name": "ipython",
    "version": 3
   },
   "file_extension": ".py",
   "mimetype": "text/x-python",
   "name": "python",
   "nbconvert_exporter": "python",
   "pygments_lexer": "ipython3",
   "version": "3.11.3"
  }
 },
 "nbformat": 4,
 "nbformat_minor": 2
}
